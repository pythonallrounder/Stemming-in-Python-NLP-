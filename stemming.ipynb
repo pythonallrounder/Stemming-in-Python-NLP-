{
 "cells": [
  {
   "cell_type": "code",
   "execution_count": 3,
   "metadata": {},
   "outputs": [],
   "source": [
    "\n",
    "# Import the toolkit and the full Porter Stemmer library\n",
    "import spacy\n",
    "nlp = spacy.load('en_core_web_sm')\n",
    "import nltk\n",
    "from nltk.stem.snowball import *\n",
    "from nltk.stem.porter import *"
   ]
  },
  {
   "cell_type": "code",
   "execution_count": 4,
   "metadata": {},
   "outputs": [
    {
     "name": "stdout",
     "output_type": "stream",
     "text": [
      "run----->run\n",
      "runner----->runner\n",
      "running----->run\n",
      "ran----->ran\n",
      "runs----->run\n",
      "easily----->easili\n",
      "fairly----->fairli\n"
     ]
    }
   ],
   "source": [
    "object = PorterStemmer()\n",
    "words = ['run','runner','running','ran','runs','easily','fairly']\n",
    "for word in words:\n",
    "    print(word + '----->' + object.stem(word))"
   ]
  },
  {
   "cell_type": "code",
   "execution_count": 5,
   "metadata": {},
   "outputs": [
    {
     "name": "stdout",
     "output_type": "stream",
     "text": [
      "run----->run\n",
      "runner----->runner\n",
      "running----->run\n",
      "ran----->ran\n",
      "runs----->run\n",
      "easily----->easili\n",
      "fairly----->fair\n"
     ]
    }
   ],
   "source": [
    "object1 = SnowballStemmer(language='english')\n",
    "for word in words:\n",
    "    print(word + '----->' + object1.stem(word))"
   ]
  },
  {
   "cell_type": "code",
   "execution_count": 15,
   "metadata": {},
   "outputs": [
    {
     "name": "stdout",
     "output_type": "stream",
     "text": [
      "I -PRON-\n",
      "am be\n",
      "a a\n",
      "runner runner\n",
      "running run\n",
      "in in\n",
      "a a\n",
      "race race\n",
      "because because\n",
      "I -PRON-\n",
      "love love\n",
      "to to\n",
      "run run\n",
      "since since\n",
      "I -PRON-\n",
      "ran run\n",
      "today today\n",
      "fairly fairly\n"
     ]
    }
   ],
   "source": [
    "wo = nlp(u\"I am a runner running in a race because I love to run since I ran today fairly\")\n",
    "for word in wo:\n",
    "    print(word , word.lemma_)"
   ]
  },
  {
   "cell_type": "code",
   "execution_count": null,
   "metadata": {},
   "outputs": [],
   "source": []
  }
 ],
 "metadata": {
  "kernelspec": {
   "display_name": "Python 3",
   "language": "python",
   "name": "python3"
  },
  "language_info": {
   "codemirror_mode": {
    "name": "ipython",
    "version": 3
   },
   "file_extension": ".py",
   "mimetype": "text/x-python",
   "name": "python",
   "nbconvert_exporter": "python",
   "pygments_lexer": "ipython3",
   "version": "3.7.9"
  }
 },
 "nbformat": 4,
 "nbformat_minor": 4
}
